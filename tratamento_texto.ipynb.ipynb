{
 "cells": [
  {
   "cell_type": "code",
   "execution_count": null,
   "metadata": {},
   "outputs": [],
   "source": [
    "import sqlite3\n",
    "import pandas as pd\n",
    "import re"
   ]
  },
  {
   "cell_type": "code",
   "execution_count": null,
   "metadata": {},
   "outputs": [],
   "source": [
    "# Conexão no Banco\n",
    "con = sqlite3.connect(\"database/documentos.db\")\n",
    "\n",
    "try:\n",
    "    query = \"\"\"\n",
    "         select * from base\n",
    "        \"\"\"\n",
    "    df = pd.read_sql_query(query, con)\n",
    "except sqlite3.Error as e:\n",
    "    print(f\"Erro ao inserir no banco de dados: {e}\")\n",
    "finally:\n",
    "    con.close()"
   ]
  },
  {
   "cell_type": "code",
   "execution_count": null,
   "metadata": {},
   "outputs": [],
   "source": [
    "def clean_text(text: str):\n",
    "    \"\"\"\n",
    "    Limpa alguns padrões indesejados do texto\n",
    "\n",
    "    Parameters:\n",
    "    ----------\n",
    "    text : str\n",
    "        Nome do arquivo PDF processado.\n",
    "    \n",
    "    Returns:\n",
    "    -------\n",
    "    str\n",
    "        Um único texto após o processamento\n",
    "    \"\"\"\n",
    "    # Remove caracteres não alfanuméricos indesejados, mantendo pontuações básicas\n",
    "    text = re.sub(r'[^\\w\\s,.?!]', '', text)\n",
    "    # Remove espaços extras\n",
    "    text = re.sub(r'\\s+', ' ', text)\n",
    "    # Remove espaços extras antes de pontuação\n",
    "    text = re.sub(r'\\s+([,.?!])', r'\\1', text)\n",
    "    \n",
    "    # Remover sublinhados excessivos\n",
    "    text = re.sub(r'_{2,}', ' ', text)  # Substituir dois ou mais '_' por um espaço\n",
    "    \n",
    "    # 1. Remover caracteres estranhos e não alfabéticos repetidos\n",
    "    text = re.sub(r'[^\\w\\s,.ºª/()\\'\"-]', ' ', text)  # Permitir apenas caracteres específicos\n",
    "    \n",
    "    # 2. Corrigir formatação de parágrafos e pontuações\n",
    "    text = re.sub(r'\\.(?=\\S)', '. ', text)  # Adicionar espaço após pontos finais\n",
    "    text = re.sub(r',(?=\\S)', ', ', text)  # Adicionar espaço após vírgulas\n",
    "    text = re.sub(r' +', ' ', text).strip()  # Garantir que espaços em excesso sejam eliminados\n",
    "\n",
    "    # 3. Normalizar para letras maiúsculas/minúsculas onde apropriado\n",
    "    text = text.title()  # Opcional: transformar em título (primeiras letras maiúsculas)\n",
    "    \n",
    "    return text.strip()"
   ]
  },
  {
   "cell_type": "code",
   "execution_count": null,
   "metadata": {},
   "outputs": [],
   "source": [
    "for index, row in df.iterrows():\n",
    "    textoo = clean_text(row['ocr_text_unida'])\n",
    "    df.at[index, 'tratado_ocr_text_unida'] = textoo\n",
    "    \n",
    "    if len(textoo) < 20:\n",
    "        df.drop(index=index, inplace=True)"
   ]
  },
  {
   "cell_type": "code",
   "execution_count": null,
   "metadata": {},
   "outputs": [],
   "source": [
    "# Criação de outro banco com o texto tratado\n",
    "\n",
    "# Criação do banco SQLite\n",
    "conn = sqlite3.connect(\"database/documentos_tratados.db\")\n",
    "cursor = conn.cursor()\n",
    "\n",
    "# Salvando o dataframe como uma tabela no banco\n",
    "df.to_sql(\"base\", conn, if_exists=\"replace\", index=False)\n",
    "\n",
    "# Confirmar e fechar conexão\n",
    "conn.commit()\n",
    "conn.close()"
   ]
  }
 ],
 "metadata": {
  "kernelspec": {
   "display_name": "venv",
   "language": "python",
   "name": "python3"
  },
  "language_info": {
   "codemirror_mode": {
    "name": "ipython",
    "version": 3
   },
   "file_extension": ".py",
   "mimetype": "text/x-python",
   "name": "python",
   "nbconvert_exporter": "python",
   "pygments_lexer": "ipython3",
   "version": "3.12.3"
  }
 },
 "nbformat": 4,
 "nbformat_minor": 2
}
